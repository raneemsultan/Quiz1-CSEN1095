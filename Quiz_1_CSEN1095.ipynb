{
  "nbformat": 4,
  "nbformat_minor": 0,
  "metadata": {
    "colab": {
      "name": "Quiz 1-CSEN1095.ipynb",
      "provenance": []
    },
    "kernelspec": {
      "name": "python3",
      "display_name": "Python 3"
    },
    "language_info": {
      "name": "python"
    }
  },
  "cells": [
    {
      "cell_type": "markdown",
      "metadata": {
        "id": "VzQMycJrdf2F"
      },
      "source": [
        "# Question 1 : Data Visualization"
      ]
    },
    {
      "cell_type": "markdown",
      "metadata": {
        "id": "VfUTFboVdiaz"
      },
      "source": [
        "For this question you will be creating visualizations to answer questions related to purchases made on black friday. Make sure that your visualizations are clear and informative."
      ]
    },
    {
      "cell_type": "markdown",
      "metadata": {
        "id": "HPE9va1MkX9P"
      },
      "source": [
        "You can find the dataset here: https://raw.githubusercontent.com/raneemsultan/Quiz1-CSEN1095/main/black_friday.csv"
      ]
    },
    {
      "cell_type": "markdown",
      "metadata": {
        "id": "Pknj_4qikV3x"
      },
      "source": [
        "**Note**: Don't mind the null values since we will not be needing the columns with nulls to for the visualizations."
      ]
    },
    {
      "cell_type": "markdown",
      "metadata": {
        "id": "bKg4hFJVdoQl"
      },
      "source": [
        "## Which age group has the most purchases and which has the least?"
      ]
    },
    {
      "cell_type": "code",
      "metadata": {
        "id": "18dlFtWXkNLG"
      },
      "source": [
        ""
      ],
      "execution_count": null,
      "outputs": []
    },
    {
      "cell_type": "markdown",
      "metadata": {
        "id": "xkDKR8GKeubv"
      },
      "source": [
        "## Compare between the numbers of men and women in each age group."
      ]
    },
    {
      "cell_type": "code",
      "metadata": {
        "id": "yQMGrDF_kOlo"
      },
      "source": [
        ""
      ],
      "execution_count": null,
      "outputs": []
    },
    {
      "cell_type": "markdown",
      "metadata": {
        "id": "h3AL3ClWkwx9"
      },
      "source": [
        "# Question 2"
      ]
    },
    {
      "cell_type": "markdown",
      "metadata": {
        "id": "DCl6vBI0k3C4"
      },
      "source": [
        "Impute the missing values from the `Age` column in the `Salary.csv` file using an appropriate method. "
      ]
    },
    {
      "cell_type": "markdown",
      "metadata": {
        "id": "fQXnGIi9lDU0"
      },
      "source": [
        "You can find the dataset here: https://raw.githubusercontent.com/raneemsultan/Quiz1-CSEN1095/main/salary.csv"
      ]
    },
    {
      "cell_type": "code",
      "metadata": {
        "id": "dU5AZ6EMlWmT"
      },
      "source": [
        ""
      ],
      "execution_count": null,
      "outputs": []
    },
    {
      "cell_type": "markdown",
      "metadata": {
        "id": "pMKmIP0Vktgc"
      },
      "source": [
        "-----------"
      ]
    },
    {
      "cell_type": "markdown",
      "metadata": {
        "id": "ukpi6Tq_kuvo"
      },
      "source": [
        "### Do NOT forget to upload the notebook to your quiz GitHub repo when you're done. Good Luck!"
      ]
    }
  ]
}